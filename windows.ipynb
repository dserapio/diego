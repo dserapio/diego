{
 "cells": [
  {
   "cell_type": "code",
   "execution_count": null,
   "metadata": {},
   "outputs": [
    {
     "name": "stderr",
     "output_type": "stream",
     "text": [
      "[INFO   ] [Logger      ] Record log in C:\\Users\\daser\\.kivy\\logs\\kivy_20-03-24_22.txt\n",
      "[INFO   ] [Kivy        ] v1.11.1\n",
      "[INFO   ] [Kivy        ] Installed at \"C:\\Users\\daser\\Anaconda3\\lib\\site-packages\\kivy\\__init__.py\"\n",
      "[INFO   ] [Python      ] v3.7.3 (default, Apr 24 2019, 15:29:51) [MSC v.1915 64 bit (AMD64)]\n",
      "[INFO   ] [Python      ] Interpreter at \"C:\\Users\\daser\\Anaconda3\\python.exe\"\n",
      "[INFO   ] [Factory     ] 184 symbols loaded\n",
      "[INFO   ] [Image       ] Providers: img_tex, img_dds, img_sdl2, img_pil, img_gif (img_ffpyplayer ignored)\n",
      "[INFO   ] [Text        ] Provider: sdl2\n",
      "[INFO   ] [Window      ] Provider: sdl2\n",
      "[INFO   ] [GL          ] Using the \"OpenGL\" graphics system\n",
      "[INFO   ] [GL          ] GLEW initialization succeeded\n",
      "[INFO   ] [GL          ] Backend used <glew>\n",
      "[INFO   ] [GL          ] OpenGL version <b'4.6.13586 Compatibility Profile Context 19.12.2 26.20.15002.61'>\n",
      "[INFO   ] [GL          ] OpenGL vendor <b'ATI Technologies Inc.'>\n",
      "[INFO   ] [GL          ] OpenGL renderer <b'Radeon RX 580 Series'>\n",
      "[INFO   ] [GL          ] OpenGL parsed version: 4, 6\n",
      "[INFO   ] [GL          ] Shading version <b'4.60'>\n",
      "[INFO   ] [GL          ] Texture max size <16384>\n",
      "[INFO   ] [GL          ] Texture max units <32>\n",
      "[INFO   ] [Window      ] auto add sdl2 input provider\n",
      "[INFO   ] [Window      ] virtual keyboard not allowed, single mode, not docked\n",
      "[INFO   ] [GL          ] NPOT texture support is available\n",
      "[INFO   ] [GL          ] Unpack subimage support is available\n",
      "[INFO   ] [Base        ] Start application main loop\n"
     ]
    }
   ],
   "source": [
    "from kivy.app import App\n",
    "from kivy.lang import Builder\n",
    "from kivy.uix.screenmanager import ScreenManager, Screen\n",
    "from kivy.uix.widget import Widget\n",
    "from kivy.uix.popup import Popup\n",
    "from kivy.uix.floatlayout import FloatLayout\n",
    "from kivy.factory import Factory\n",
    "from kivy.core.window import Window\n",
    "Window.fullscreen = False\n",
    "\n",
    "from kivy.core.window import Window\n",
    "Window.clearcolor = (1, 1, 1, 1)\n",
    "\n",
    "class Home(Screen):\n",
    "    def btn(self):\n",
    "        show_popup()\n",
    "    pass\n",
    "\n",
    "class Information(Screen):\n",
    "    pass\n",
    "\n",
    "class GPS(Screen):\n",
    "    pass\n",
    "\n",
    "class TradeMap(Screen):\n",
    "    pass\n",
    "\n",
    "class WindowManager(ScreenManager):\n",
    "    pass\n",
    "\n",
    "class P(FloatLayout):\n",
    "    pass\n",
    "\n",
    "def show_popup():\n",
    "    show = P()\n",
    "    popupWindow = Popup(title = \"Popup Window\", content = show , size_hint=(None,None), size=(400,400))\n",
    "    popupWindow.open()\n",
    "    \n",
    "\n",
    "kv = Builder.load_file(\"win.kv\")\n",
    "\n",
    "class MyMainApp(App):\n",
    "    def build(self):\n",
    "        return kv\n",
    "    \n",
    "    \n",
    "if __name__==\"__main__\":\n",
    "    MyMainApp().run()"
   ]
  },
  {
   "cell_type": "code",
   "execution_count": null,
   "metadata": {},
   "outputs": [],
   "source": []
  },
  {
   "cell_type": "code",
   "execution_count": null,
   "metadata": {},
   "outputs": [],
   "source": []
  }
 ],
 "metadata": {
  "kernelspec": {
   "display_name": "Python 3",
   "language": "python",
   "name": "python3"
  },
  "language_info": {
   "codemirror_mode": {
    "name": "ipython",
    "version": 3
   },
   "file_extension": ".py",
   "mimetype": "text/x-python",
   "name": "python",
   "nbconvert_exporter": "python",
   "pygments_lexer": "ipython3",
   "version": "3.7.3"
  }
 },
 "nbformat": 4,
 "nbformat_minor": 2
}
